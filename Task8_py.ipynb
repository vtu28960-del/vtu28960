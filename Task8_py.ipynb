{
  "nbformat": 4,
  "nbformat_minor": 0,
  "metadata": {
    "colab": {
      "provenance": [],
      "authorship_tag": "ABX9TyPL6H8g88t2Rr9rzTQ0zgXs",
      "include_colab_link": true
    },
    "kernelspec": {
      "name": "python3",
      "display_name": "Python 3"
    },
    "language_info": {
      "name": "python"
    }
  },
  "cells": [
    {
      "cell_type": "markdown",
      "metadata": {
        "id": "view-in-github",
        "colab_type": "text"
      },
      "source": [
        "<a href=\"https://colab.research.google.com/github/vtu28960-del/vtu28960/blob/main/Task8_py.ipynb\" target=\"_parent\"><img src=\"https://colab.research.google.com/assets/colab-badge.svg\" alt=\"Open In Colab\"/></a>"
      ]
    },
    {
      "cell_type": "code",
      "execution_count": 1,
      "metadata": {
        "colab": {
          "base_uri": "https://localhost:8080/"
        },
        "id": "fOHsCh2wyhl0",
        "outputId": "56f1ecc3-b00e-432c-d06a-8ed40d6ec1d0"
      },
      "outputs": [
        {
          "output_type": "stream",
          "name": "stdout",
          "text": [
            "0 1 1 2 3 5 8 13 21 34 "
          ]
        }
      ],
      "source": [
        "def fibonacci():\n",
        "    a, b = 0, 1\n",
        "    for _ in range(10):\n",
        "        yield a\n",
        "        a, b = b, a + b\n",
        "\n",
        "fibonacci_series = fibonacci()\n",
        "for number in fibonacci_series:\n",
        "    print(number, end=\" \")"
      ]
    },
    {
      "cell_type": "code",
      "source": [
        "def squares():\n",
        "    for i in range(5):\n",
        "        yield i ** 2\n",
        "\n",
        "squares_generator = squares()\n",
        "for square in squares_generator:\n",
        "    print(square)"
      ],
      "metadata": {
        "colab": {
          "base_uri": "https://localhost:8080/"
        },
        "id": "5EP9JiOQykVg",
        "outputId": "9821bed2-182e-48bc-b7ef-3ea8539c4152"
      },
      "execution_count": 2,
      "outputs": [
        {
          "output_type": "stream",
          "name": "stdout",
          "text": [
            "0\n",
            "1\n",
            "4\n",
            "9\n",
            "16\n"
          ]
        }
      ]
    },
    {
      "cell_type": "code",
      "source": [
        "def operation_decorator(func):\n",
        "    def wrapper(x, y):\n",
        "        print(\"Performing arithmetic operation...\")\n",
        "        result = func(x, y)\n",
        "        print(\"Operation completed.\")\n",
        "        return result\n",
        "    return wrapper\n",
        "\n",
        "@operation_decorator\n",
        "def add(x, y):\n",
        "    return x + y\n",
        "\n",
        "@operation_decorator\n",
        "def divide(x, y):\n",
        "    if y == 0:\n",
        "        return \"Cannot divide by zero!\"\n",
        "    else:\n",
        "        return x / y\n",
        "\n",
        "result_add = add(5, 3)\n",
        "print(\"Result of addition:\", result_add)\n",
        "result_divide = divide(15, 0)\n",
        "print(\"Result of division:\", result_divide)"
      ],
      "metadata": {
        "colab": {
          "base_uri": "https://localhost:8080/"
        },
        "id": "abWBaTZ9ykYa",
        "outputId": "08c3f720-2a95-445a-c9cb-777a8ee92085"
      },
      "execution_count": 3,
      "outputs": [
        {
          "output_type": "stream",
          "name": "stdout",
          "text": [
            "Performing arithmetic operation...\n",
            "Operation completed.\n",
            "Result of addition: 8\n",
            "Performing arithmetic operation...\n",
            "Operation completed.\n",
            "Result of division: Cannot divide by zero!\n"
          ]
        }
      ]
    }
  ]
}