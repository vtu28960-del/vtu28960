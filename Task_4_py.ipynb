{
  "nbformat": 4,
  "nbformat_minor": 0,
  "metadata": {
    "colab": {
      "provenance": [],
      "authorship_tag": "ABX9TyPPS+AraQvJ76eOc3OKwWB/",
      "include_colab_link": true
    },
    "kernelspec": {
      "name": "python3",
      "display_name": "Python 3"
    },
    "language_info": {
      "name": "python"
    }
  },
  "cells": [
    {
      "cell_type": "markdown",
      "metadata": {
        "id": "view-in-github",
        "colab_type": "text"
      },
      "source": [
        "<a href=\"https://colab.research.google.com/github/vtu28960-del/vtu28960/blob/main/Task_4_py.ipynb\" target=\"_parent\"><img src=\"https://colab.research.google.com/assets/colab-badge.svg\" alt=\"Open In Colab\"/></a>"
      ]
    },
    {
      "cell_type": "code",
      "execution_count": 1,
      "metadata": {
        "colab": {
          "base_uri": "https://localhost:8080/"
        },
        "id": "XSXfO8dlp_YS",
        "outputId": "bfde6bce-9669-40f1-a53a-3469183cd7c7"
      },
      "outputs": [
        {
          "output_type": "stream",
          "name": "stdout",
          "text": [
            "[12]\n",
            "[12, 4]\n",
            "[12, 4, 2]\n",
            "[12, 4, 2, 4]\n",
            "[12, 2, 4]\n",
            "[12, 2, 4, 21]\n",
            "[2, 4, 12, 21]\n",
            "[2, 4, 12]\n",
            "[12, 4, 2]\n",
            "[0, 1, 2, 3, 4, 5, 6, 7, 8, 9]\n"
          ]
        }
      ],
      "source": [
        "sample = []\n",
        "sample.insert(0, 12)\n",
        "print(sample)\n",
        "sample.insert(1, 4)\n",
        "print(sample)\n",
        "sample.insert(2, 2)\n",
        "print(sample)\n",
        "sample.insert(3, 4)\n",
        "print(sample)\n",
        "sample.remove(4)\n",
        "print(sample)\n",
        "sample.append(21)\n",
        "print(sample)\n",
        "sample.sort()\n",
        "print(sample)\n",
        "sample.pop()\n",
        "print(sample)\n",
        "sample.reverse()\n",
        "print(sample)\n",
        "a = list(range(10))\n",
        "print(a)"
      ]
    },
    {
      "cell_type": "code",
      "source": [
        "alist = []\n",
        "for i in range(int(input())):\n",
        "    name = input()\n",
        "    score = float(input())\n",
        "    alist.append([name, score])\n",
        "second_highest = sorted(set([score for name, score in alist]))[1]\n",
        "print('\\n'.join(sorted([name for name, score in alist if score == second_highest])))"
      ],
      "metadata": {
        "colab": {
          "base_uri": "https://localhost:8080/"
        },
        "id": "3oo4k66JqEyO",
        "outputId": "fc7bdeb2-7eb8-4ff9-e1e4-0958637396ab"
      },
      "execution_count": 5,
      "outputs": [
        {
          "output_type": "stream",
          "name": "stdout",
          "text": [
            "4\n",
            "minu\n",
            "25\n",
            "reena\n",
            "10\n",
            "pi\n",
            "5\n",
            "rinu\n",
            "5\n",
            "reena\n"
          ]
        }
      ]
    },
    {
      "cell_type": "code",
      "source": [
        "n = int(input())\n",
        "a = map(int, input().split())\n",
        "t = tuple(a)\n",
        "print(hash(t))"
      ],
      "metadata": {
        "colab": {
          "base_uri": "https://localhost:8080/"
        },
        "id": "l5JQs-zOq9TU",
        "outputId": "256f61f6-a3ec-4db8-a001-968511304499"
      },
      "execution_count": 7,
      "outputs": [
        {
          "output_type": "stream",
          "name": "stdout",
          "text": [
            "2\n",
            "3 1 2\n",
            "-4267894587036932458\n"
          ]
        }
      ]
    },
    {
      "cell_type": "code",
      "source": [
        "def min_paint_balloons(s):\n",
        "    amber_count = s.count('a')\n",
        "    brass_count = s.count('b')\n",
        "    min_paint = min(amber_count, brass_count)\n",
        "    return min_paint\n",
        "\n",
        "T = int(input(\"enter the total testcase\"))\n",
        "for i in range(T):\n",
        "    s = input().strip()\n",
        "    print(min_paint_balloons(s))"
      ],
      "metadata": {
        "colab": {
          "base_uri": "https://localhost:8080/"
        },
        "id": "kblebDzErB4o",
        "outputId": "b1554f25-bf63-40e8-c50d-847b43433f13"
      },
      "execution_count": 8,
      "outputs": [
        {
          "output_type": "stream",
          "name": "stdout",
          "text": [
            "enter the total testcase4\n",
            "a\n",
            "0\n",
            "as\n",
            "0\n",
            "axx\n",
            "0\n",
            "ass\n",
            "0\n"
          ]
        }
      ]
    }
  ]
}