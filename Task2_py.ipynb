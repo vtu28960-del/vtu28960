{
  "nbformat": 4,
  "nbformat_minor": 0,
  "metadata": {
    "colab": {
      "provenance": [],
      "authorship_tag": "ABX9TyPKQezlcCIrJ1n3cs7MJSSv",
      "include_colab_link": true
    },
    "kernelspec": {
      "name": "python3",
      "display_name": "Python 3"
    },
    "language_info": {
      "name": "python"
    }
  },
  "cells": [
    {
      "cell_type": "markdown",
      "metadata": {
        "id": "view-in-github",
        "colab_type": "text"
      },
      "source": [
        "<a href=\"https://colab.research.google.com/github/vtu28960-del/vtu28960/blob/main/Task2_py.ipynb\" target=\"_parent\"><img src=\"https://colab.research.google.com/assets/colab-badge.svg\" alt=\"Open In Colab\"/></a>"
      ]
    },
    {
      "cell_type": "code",
      "execution_count": 1,
      "metadata": {
        "colab": {
          "base_uri": "https://localhost:8080/"
        },
        "id": "4kzKeYtsouyv",
        "outputId": "4ebb3038-8e7f-4e3a-ccbb-71d282182edd"
      },
      "outputs": [
        {
          "output_type": "stream",
          "name": "stdout",
          "text": [
            "Guess a number between 1 and 9: 1\n",
            "Wrong guess. Try again.\n",
            "Guess a number between 1 and 9: 2\n",
            "Wrong guess. Try again.\n",
            "Guess a number between 1 and 9: 3\n",
            "Wrong guess. Try again.\n",
            "Guess a number between 1 and 9: 4\n",
            "Wrong guess. Try again.\n",
            "Guess a number between 1 and 9: 5\n",
            "Wrong guess. Try again.\n",
            "Guess a number between 1 and 9: 6\n",
            "Wrong guess. Try again.\n",
            "Guess a number between 1 and 9: 7\n",
            "Wrong guess. Try again.\n",
            "Guess a number between 1 and 9: 8\n",
            "Wrong guess. Try again.\n",
            "Guess a number between 1 and 9: 9\n",
            "Well guessed!\n"
          ]
        }
      ],
      "source": [
        "import random\n",
        "def guess_number():\n",
        "    target_number = random.randint(1, 9)\n",
        "    while True:\n",
        "        user_guess = int(input(\"Guess a number between 1 and 9: \"))\n",
        "        if user_guess == target_number:\n",
        "            print(\"Well guessed!\")\n",
        "            break\n",
        "        else:\n",
        "            print(\"Wrong guess. Try again.\")\n",
        "guess_number()"
      ]
    },
    {
      "cell_type": "code",
      "source": [
        "for number in range(1, 51):\n",
        "    if number % 3 == 0 and number % 5 == 0:\n",
        "        print(\"FizzBuzz\")\n",
        "    elif number % 3 == 0:\n",
        "        print(\"Fizz\")\n",
        "    elif number % 5 == 0:\n",
        "        print(\"Buzz\")\n",
        "    else:\n",
        "        print(number)"
      ],
      "metadata": {
        "colab": {
          "base_uri": "https://localhost:8080/"
        },
        "id": "ZGm-KaeXpGYC",
        "outputId": "a5806910-ad5f-48d3-e65b-1c171a62af96"
      },
      "execution_count": 2,
      "outputs": [
        {
          "output_type": "stream",
          "name": "stdout",
          "text": [
            "1\n",
            "2\n",
            "Fizz\n",
            "4\n",
            "Buzz\n",
            "Fizz\n",
            "7\n",
            "8\n",
            "Fizz\n",
            "Buzz\n",
            "11\n",
            "Fizz\n",
            "13\n",
            "14\n",
            "FizzBuzz\n",
            "16\n",
            "17\n",
            "Fizz\n",
            "19\n",
            "Buzz\n",
            "Fizz\n",
            "22\n",
            "23\n",
            "Fizz\n",
            "Buzz\n",
            "26\n",
            "Fizz\n",
            "28\n",
            "29\n",
            "FizzBuzz\n",
            "31\n",
            "32\n",
            "Fizz\n",
            "34\n",
            "Buzz\n",
            "Fizz\n",
            "37\n",
            "38\n",
            "Fizz\n",
            "Buzz\n",
            "41\n",
            "Fizz\n",
            "43\n",
            "44\n",
            "FizzBuzz\n",
            "46\n",
            "47\n",
            "Fizz\n",
            "49\n",
            "Buzz\n"
          ]
        }
      ]
    },
    {
      "cell_type": "code",
      "source": [
        "nums = list(input(\"Enter a sequence of comma-separated 4-digit binary numbers: \").split(','))\n",
        "res = [i for i in nums if int(i, 2) % 6 == 0]\n",
        "print(res)"
      ],
      "metadata": {
        "colab": {
          "base_uri": "https://localhost:8080/"
        },
        "id": "tVxLc6fspJYh",
        "outputId": "c5cfb292-7e7a-4040-bed3-6caea8de8f5b"
      },
      "execution_count": 3,
      "outputs": [
        {
          "output_type": "stream",
          "name": "stdout",
          "text": [
            "Enter a sequence of comma-separated 4-digit binary numbers: 1011\n",
            "[]\n"
          ]
        }
      ]
    },
    {
      "cell_type": "code",
      "source": [
        "def count_even_odd(numbers):\n",
        "    even_count = 0\n",
        "    odd_count = 0\n",
        "    for num in numbers:\n",
        "        if num % 2 == 0:\n",
        "            even_count += 1\n",
        "        else:\n",
        "            odd_count += 1\n",
        "    return even_count, odd_count\n",
        "\n",
        "input_numbers = input(\"Enter a series of numbers separated by spaces: \")\n",
        "numbers = list(map(int, input_numbers.split()))\n",
        "even_count, odd_count = count_even_odd(numbers)\n",
        "print(\"Number of even numbers:\", even_count)\n",
        "print(\"Number of odd numbers:\", odd_count)"
      ],
      "metadata": {
        "colab": {
          "base_uri": "https://localhost:8080/"
        },
        "id": "nxqQ-w2tpMw1",
        "outputId": "1c413bac-9d4d-4807-b7b9-815218587311"
      },
      "execution_count": 4,
      "outputs": [
        {
          "output_type": "stream",
          "name": "stdout",
          "text": [
            "Enter a series of numbers separated by spaces: 1 2 3 4 5\n",
            "Number of even numbers: 2\n",
            "Number of odd numbers: 3\n"
          ]
        }
      ]
    }
  ]
}