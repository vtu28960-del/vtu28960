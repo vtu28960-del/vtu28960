{
  "nbformat": 4,
  "nbformat_minor": 0,
  "metadata": {
    "colab": {
      "provenance": [],
      "authorship_tag": "ABX9TyNhLoPm3AE/NwjVTs5JZ4g4",
      "include_colab_link": true
    },
    "kernelspec": {
      "name": "python3",
      "display_name": "Python 3"
    },
    "language_info": {
      "name": "python"
    }
  },
  "cells": [
    {
      "cell_type": "markdown",
      "metadata": {
        "id": "view-in-github",
        "colab_type": "text"
      },
      "source": [
        "<a href=\"https://colab.research.google.com/github/vtu28960-del/vtu28960/blob/main/Task_3_py.ipynb\" target=\"_parent\"><img src=\"https://colab.research.google.com/assets/colab-badge.svg\" alt=\"Open In Colab\"/></a>"
      ]
    },
    {
      "cell_type": "code",
      "execution_count": 1,
      "metadata": {
        "colab": {
          "base_uri": "https://localhost:8080/"
        },
        "id": "apRj9gzVpavI",
        "outputId": "4ad93048-0e31-46ab-aa96-c851789f17f4"
      },
      "outputs": [
        {
          "output_type": "stream",
          "name": "stdout",
          "text": [
            "Enter the date in MM DD YYYY format: 01 12 2001\n",
            "FRIDAY\n"
          ]
        }
      ],
      "source": [
        "import datetime\n",
        "input_date = input(\"Enter the date in MM DD YYYY format: \")\n",
        "month, day, year = map(int, input_date.split())\n",
        "if 2000 < year < 3000:\n",
        "    x = datetime.datetime(year, month, day)\n",
        "    day_name = x.strftime(\"%A\").upper()\n",
        "    print(day_name)\n",
        "else:\n",
        "    print(\"Year is not within the specified constraints.\")"
      ]
    },
    {
      "cell_type": "code",
      "source": [
        "from math import pow\n",
        "def compute_armstrong(x):\n",
        "    n = len(str(x))\n",
        "    armstrong_sum = sum(pow(int(i), n) for i in str(x))\n",
        "    return armstrong_sum == x\n",
        "number = int(input(\"Enter a number: \"))\n",
        "if compute_armstrong(number):\n",
        "    print(f\"{number} is an Armstrong number\")\n",
        "else:\n",
        "    print(f\"{number} is not an Armstrong number\")"
      ],
      "metadata": {
        "colab": {
          "base_uri": "https://localhost:8080/"
        },
        "id": "_J3JSKhapmpa",
        "outputId": "05b035b7-2cac-4d3f-a79b-e24dca582d6e"
      },
      "execution_count": 2,
      "outputs": [
        {
          "output_type": "stream",
          "name": "stdout",
          "text": [
            "Enter a number: 4\n",
            "4 is an Armstrong number\n"
          ]
        }
      ]
    },
    {
      "cell_type": "code",
      "source": [
        "import math\n",
        "def edistance(x, y):\n",
        "    distance = math.sqrt((y[0] - x[0])*2 + (y[1] - x[1])*2)\n",
        "    return distance"
      ],
      "metadata": {
        "id": "zOtImYzSpojI"
      },
      "execution_count": null,
      "outputs": []
    },
    {
      "cell_type": "code",
      "source": [
        "from euclidean_distance_module import edistance\n",
        "X = (1, 3)\n",
        "Y = (2, 3)\n",
        "result = edistance(X, Y)\n",
        "print(\"Euclidean distance between X and Y:\", result)"
      ],
      "metadata": {
        "id": "eGL1Dj0Zpr_T"
      },
      "execution_count": null,
      "outputs": []
    },
    {
      "cell_type": "code",
      "source": [
        "def display():\n",
        "    print(\"Hello World\")"
      ],
      "metadata": {
        "id": "9SdmN1AdpsFd"
      },
      "execution_count": null,
      "outputs": []
    },
    {
      "cell_type": "code",
      "source": [
        "def sum(a, b):\n",
        "    return a + b"
      ],
      "metadata": {
        "id": "AIsySkbBpsJO"
      },
      "execution_count": null,
      "outputs": []
    },
    {
      "cell_type": "code",
      "source": [
        "from T3 import mod1\n",
        "from T3 import mod2\n",
        "mod1.display()\n",
        "res = mod2.sum(1, 2)\n",
        "print(res)"
      ],
      "metadata": {
        "id": "N4W1IsTzpsM-"
      },
      "execution_count": null,
      "outputs": []
    }
  ]
}